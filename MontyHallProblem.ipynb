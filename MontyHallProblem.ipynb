{
 "cells": [
  {
   "cell_type": "code",
   "execution_count": 96,
   "metadata": {},
   "outputs": [],
   "source": [
    "# Import necessary libraries\n",
    "import numpy as np\n",
    "import polars as pl\n",
    "import matplotlib.pyplot as plt\n",
    "import seaborn as sns\n"
   ]
  },
  {
   "cell_type": "code",
   "execution_count": 97,
   "metadata": {},
   "outputs": [],
   "source": [
    "import enum\n",
    "\n",
    "\n",
    "class Strategy(str, enum.Enum):\n",
    "    STAY = \"stay\"\n",
    "    SWITCH = \"switch\"\n",
    "    RANDOM = \"random\"\n",
    "\n",
    "\n",
    "def monty_hall_simulation(strategy: Strategy, n_simulations: int):\n",
    "    \"\"\"\n",
    "    Simulate the Monty Hall problem.\n",
    "\n",
    "    Parameters:\n",
    "    - strategy: 'stay', 'switch', or 'random'\n",
    "    - n_simulations: number of times to run the simulation\n",
    "\n",
    "    Returns:\n",
    "    - Number of wins\n",
    "    \"\"\"\n",
    "    wins = 0\n",
    "\n",
    "    for _ in range(n_simulations):\n",
    "        # Randomly place the car behind one of the three doors\n",
    "        doors = [0, 1, 2]\n",
    "        car = np.random.choice(doors)\n",
    "\n",
    "        # Contestant makes an initial choice\n",
    "        player_choice = np.random.choice(doors)\n",
    "\n",
    "        # Host opens a door that is neither the car nor the player's choice\n",
    "        remaining_doors = [\n",
    "            door for door in doors if door != player_choice and door != car\n",
    "        ]\n",
    "        if remaining_doors:\n",
    "            host_opens = np.random.choice(remaining_doors)\n",
    "        else:\n",
    "            # If player's choice is the car, host opens a random other door\n",
    "            host_opens = np.random.choice(\n",
    "                [door for door in doors if door != player_choice]\n",
    "            )\n",
    "\n",
    "        # Depending on the strategy, the player may switch\n",
    "        if strategy == Strategy.STAY:\n",
    "            final_choice = player_choice\n",
    "        elif strategy == Strategy.SWITCH:\n",
    "            # Switch to the other unopened door\n",
    "            final_choice = [\n",
    "                door for door in doors if door != player_choice and door != host_opens\n",
    "            ][0]\n",
    "        elif strategy == Strategy.RANDOM:\n",
    "            # Randomly decide whether to stay or switch\n",
    "            if np.random.rand() > 0.5:\n",
    "                final_choice = player_choice\n",
    "            else:\n",
    "                final_choice = [\n",
    "                    door\n",
    "                    for door in doors\n",
    "                    if door != player_choice and door != host_opens\n",
    "                ][0]\n",
    "        else:\n",
    "            raise ValueError(\"Invalid strategy. Choose 'stay', 'switch', or 'random'.\")\n",
    "\n",
    "        # Check if the player wins\n",
    "        if final_choice == car:\n",
    "            wins += 1\n",
    "\n",
    "    return wins\n"
   ]
  },
  {
   "cell_type": "code",
   "execution_count": 93,
   "metadata": {},
   "outputs": [],
   "source": [
    "# Number of simulations\n",
    "from typing import Any\n",
    "\n",
    "\n",
    "n_simulations = 10000\n",
    "\n",
    "# Strategies to test\n",
    "strategies = [choice for choice in Strategy]\n",
    "\n",
    "# Run simulations and store results\n",
    "results: list[dict[str, Any]] = []\n",
    "\n",
    "for strategy in strategies:\n",
    "    wins = monty_hall_simulation(strategy, n_simulations)\n",
    "    win_rate = wins / n_simulations\n",
    "    results.append({\"Strategy\": strategy, \"Wins\": wins, \"Win Rate\": win_rate})\n",
    "\n",
    "# Convert results to a Polars DataFrame\n",
    "schema: dict[str, pl.DataType] = {\n",
    "    \"Strategy\": pl.Categorical,\n",
    "    \"Wins\": pl.Int16,\n",
    "    \"Win Rate\": pl.Float32,\n",
    "}  # type: ignore\n",
    "df_results = pl.DataFrame(results, schema=schema)\n"
   ]
  },
  {
   "cell_type": "code",
   "execution_count": 94,
   "metadata": {},
   "outputs": [
    {
     "name": "stdout",
     "output_type": "stream",
     "text": [
      "shape: (3, 3)\n",
      "┌──────────┬──────┬──────────┐\n",
      "│ Strategy ┆ Wins ┆ Win Rate │\n",
      "│ ---      ┆ ---  ┆ ---      │\n",
      "│ cat      ┆ i16  ┆ f32      │\n",
      "╞══════════╪══════╪══════════╡\n",
      "│ stay     ┆ 3332 ┆ 0.3332   │\n",
      "│ switch   ┆ 6629 ┆ 0.6629   │\n",
      "│ random   ┆ 4984 ┆ 0.4984   │\n",
      "└──────────┴──────┴──────────┘\n"
     ]
    }
   ],
   "source": [
    "print(df_results)\n"
   ]
  },
  {
   "cell_type": "code",
   "execution_count": 95,
   "metadata": {},
   "outputs": [
    {
     "data": {
      "image/png": "[encoded data removed]",
      "text/plain": [
       "<Figure size 800x600 with 1 Axes>"
      ]
     },
     "metadata": {},
     "output_type": "display_data"
    }
   ],
   "source": [
    "# Set up the plot style\n",
    "sns.set(style=\"whitegrid\")\n",
    "\n",
    "# Create the bar plot\n",
    "plt.figure(figsize=(8, 6))\n",
    "sns.barplot(\n",
    "    data=df_results.to_pandas(),\n",
    "    x=\"Strategy\",\n",
    "    y=\"Win Rate\",\n",
    "    hue=\"Strategy\",\n",
    ")\n",
    "# Add title and labels\n",
    "plt.title(\"Monty Hall Problem Simulation Results\")\n",
    "plt.ylabel(\"Win Rate\")\n",
    "plt.xlabel(\"Strategy\")\n",
    "\n",
    "# Show the plot\n",
    "plt.show()\n"
   ]
  },
  {
   "cell_type": "code",
   "execution_count": null,
   "metadata": {},
   "outputs": [],
   "source": []
  }
 ],
 "metadata": {
  "kernelspec": {
   "display_name": ".venv",
   "language": "python",
   "name": "python3"
  },
  "language_info": {
   "codemirror_mode": {
    "name": "ipython",
    "version": 3
   },
   "file_extension": ".py",
   "mimetype": "text/x-python",
   "name": "python",
   "nbconvert_exporter": "python",
   "pygments_lexer": "ipython3",
   "version": "3.12.5"
  }
 },
 "nbformat": 4,
 "nbformat_minor": 2
}
